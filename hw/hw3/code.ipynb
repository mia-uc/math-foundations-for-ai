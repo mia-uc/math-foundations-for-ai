{
 "cells": [
  {
   "cell_type": "code",
   "execution_count": 23,
   "metadata": {},
   "outputs": [],
   "source": [
    "import numpy as np\n",
    "import pandas as pd\n",
    "from collections import defaultdict"
   ]
  },
  {
   "cell_type": "code",
   "execution_count": 24,
   "metadata": {},
   "outputs": [
    {
     "data": {
      "text/html": [
       "<div>\n",
       "<style scoped>\n",
       "    .dataframe tbody tr th:only-of-type {\n",
       "        vertical-align: middle;\n",
       "    }\n",
       "\n",
       "    .dataframe tbody tr th {\n",
       "        vertical-align: top;\n",
       "    }\n",
       "\n",
       "    .dataframe thead th {\n",
       "        text-align: right;\n",
       "    }\n",
       "</style>\n",
       "<table border=\"1\" class=\"dataframe\">\n",
       "  <thead>\n",
       "    <tr style=\"text-align: right;\">\n",
       "      <th></th>\n",
       "      <th></th>\n",
       "      <th>entity</th>\n",
       "    </tr>\n",
       "    <tr>\n",
       "      <th>id</th>\n",
       "      <th>origin</th>\n",
       "      <th></th>\n",
       "    </tr>\n",
       "  </thead>\n",
       "  <tbody>\n",
       "    <tr>\n",
       "      <th>33799</th>\n",
       "      <th>GetOnBoard</th>\n",
       "      <td>{laravel}</td>\n",
       "    </tr>\n",
       "    <tr>\n",
       "      <th>33862</th>\n",
       "      <th>GetOnBoard</th>\n",
       "      <td>{asp.net, javascript, .netcore, c#, css, mvc, ...</td>\n",
       "    </tr>\n",
       "    <tr>\n",
       "      <th>33941</th>\n",
       "      <th>GetOnBoard</th>\n",
       "      <td>{react, c#, javascript, .net}</td>\n",
       "    </tr>\n",
       "  </tbody>\n",
       "</table>\n",
       "</div>"
      ],
      "text/plain": [
       "                                                             entity\n",
       "id    origin                                                       \n",
       "33799 GetOnBoard                                          {laravel}\n",
       "33862 GetOnBoard  {asp.net, javascript, .netcore, c#, css, mvc, ...\n",
       "33941 GetOnBoard                      {react, c#, javascript, .net}"
      ]
     },
     "execution_count": 24,
     "metadata": {},
     "output_type": "execute_result"
    }
   ],
   "source": [
    "df = pd.read_csv('./data.csv')\n",
    "skills = df['entity'].unique()\n",
    "groups = df.groupby(['id', 'origin']).agg({'entity': set})\n",
    "groups.head(3)"
   ]
  },
  {
   "cell_type": "code",
   "execution_count": 27,
   "metadata": {},
   "outputs": [
    {
     "name": "stdout",
     "output_type": "stream",
     "text": [
      "1041 jobs, 610 skills(nodes) and 14464 edges were analyzed 372100\n"
     ]
    }
   ],
   "source": [
    "# Create a 2D NumPy array to represent the graph\n",
    "graph = np.zeros((len(skills), len(skills)))\n",
    "graphx = defaultdict(set)\n",
    "\n",
    "count, nodes, edges = 0, 0, 0\n",
    "for job in groups['entity'].apply(list):\n",
    "  count += 1\n",
    "  for i, skill in enumerate(job):\n",
    "    for other_skill in job[i+1:]:\n",
    "        edges += 2\n",
    "        \n",
    "        graph[list(skills).index(skill), list(skills).index(other_skill)] += 1\n",
    "        graphx[skill].add(other_skill)\n",
    "\n",
    "        graph[list(skills).index(other_skill), list(skills).index(skill)] += 1\n",
    "        graphx[other_skill].add(skill)\n",
    "\n",
    "print(f'{count} jobs, {len(skills)} skills(nodes) and {edges} edges were analyzed', len(skills)*len(skills))"
   ]
  },
  {
   "cell_type": "code",
   "execution_count": 28,
   "metadata": {},
   "outputs": [],
   "source": [
    "for j in range(len(skills)):\n",
    "    sum_columns = graph[:, j].sum()\n",
    "    if sum_columns != 0:\n",
    "        graph[:, j] /= sum_columns\n"
   ]
  },
  {
   "cell_type": "code",
   "execution_count": 33,
   "metadata": {},
   "outputs": [],
   "source": [
    "\n",
    "# Compute the PageRank score\n",
    "N = len(skills)\n",
    "r = np.ones(N) / N  # initial score\n",
    "for i in range(100):  # number of iterations\n",
    "    r_new = graph @ r\n",
    "    if np.allclose(r, r_new, atol=1e-6, rtol=0):\n",
    "        break\n",
    "    r = r_new\n",
    "\n",
    "# Sort skills by score\n",
    "score_dict = {list(skills)[i]: r[i] for i in range(N)}\n",
    "\n",
    "def suggest(*skills, limit = 5):\n",
    "    skills_set = set()\n",
    "    for s in skills:\n",
    "        skills_set = skills_set.union(graphx[s])\n",
    "\n",
    "    sorted_scores = sorted(skills_set - set(skills), key=lambda x: score_dict[x], reverse=True)\n",
    "\n",
    "    # Print the scores\n",
    "    return sorted_scores[:limit]"
   ]
  },
  {
   "cell_type": "code",
   "execution_count": 34,
   "metadata": {},
   "outputs": [
    {
     "data": {
      "text/plain": [
       "['javascript', 'java', 'css', 'react', 'nodejs']"
      ]
     },
     "execution_count": 34,
     "metadata": {},
     "output_type": "execute_result"
    }
   ],
   "source": [
    "suggest('python', 'sql', 'html')"
   ]
  },
  {
   "cell_type": "code",
   "execution_count": null,
   "metadata": {},
   "outputs": [],
   "source": []
  }
 ],
 "metadata": {
  "kernelspec": {
   "display_name": "ai-env",
   "language": "python",
   "name": "ai-env"
  },
  "language_info": {
   "codemirror_mode": {
    "name": "ipython",
    "version": 3
   },
   "file_extension": ".py",
   "mimetype": "text/x-python",
   "name": "python",
   "nbconvert_exporter": "python",
   "pygments_lexer": "ipython3",
   "version": "3.11.2"
  },
  "orig_nbformat": 4
 },
 "nbformat": 4,
 "nbformat_minor": 2
}
